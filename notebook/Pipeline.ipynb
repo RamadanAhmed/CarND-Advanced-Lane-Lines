{
 "metadata": {
  "language_info": {
   "codemirror_mode": {
    "name": "ipython",
    "version": 3
   },
   "file_extension": ".py",
   "mimetype": "text/x-python",
   "name": "python",
   "nbconvert_exporter": "python",
   "pygments_lexer": "ipython3",
   "version": "3.9.2-final"
  },
  "orig_nbformat": 2,
  "kernelspec": {
   "name": "python3",
   "display_name": "Python 3",
   "language": "python"
  }
 },
 "nbformat": 4,
 "nbformat_minor": 2,
 "cells": [
  {
   "cell_type": "code",
   "execution_count": 1,
   "metadata": {},
   "outputs": [],
   "source": [
    "from src.image_filter import ImageFilter\n",
    "from src.visualizer import Visualizer\n",
    "from src.camera import Camera\n",
    "from src.lane_finder import LaneFinder\n",
    "\n",
    "import numpy as np\n",
    "import pickle\n",
    "import glob\n",
    "import os\n",
    "import cv2\n",
    "import matplotlib.pyplot as plt\n",
    "%matplotlib inline"
   ]
  },
  {
   "cell_type": "code",
   "execution_count": 2,
   "metadata": {},
   "outputs": [
    {
     "output_type": "execute_result",
     "data": {
      "text/plain": [
       "{'camera_matrix': array([[1.15777818e+03, 0.00000000e+00, 6.67113856e+02],\n",
       "        [0.00000000e+00, 1.15282217e+03, 3.86124584e+02],\n",
       "        [0.00000000e+00, 0.00000000e+00, 1.00000000e+00]]),\n",
       " 'distortion_coefficient': array([[-0.24688507, -0.02373153, -0.00109831,  0.00035107, -0.00259872]])}"
      ]
     },
     "metadata": {},
     "execution_count": 2
    }
   ],
   "source": [
    "calibration_data = pickle.load(open(\"calibration_data.p\", \"rb\" ))\n",
    "calibration_data"
   ]
  },
  {
   "cell_type": "code",
   "execution_count": 3,
   "metadata": {},
   "outputs": [
    {
     "output_type": "execute_result",
     "data": {
      "text/plain": [
       "{'car_points': [(585, 460), (203, 720), (1127, 720), (695, 460)],\n",
       " 'bird_points': [(320, 0), (320, 720), (960, 720), (960, 0)]}"
      ]
     },
     "metadata": {},
     "execution_count": 3
    }
   ],
   "source": [
    "prespective_data = pickle.load(open(\"prespective_data.p\", \"rb\" ))\n",
    "prespective_data"
   ]
  },
  {
   "cell_type": "code",
   "execution_count": 4,
   "metadata": {},
   "outputs": [],
   "source": [
    "camera = Camera(calibration_data, prespective_data['car_points'], prespective_data['bird_points'])\n",
    "visualizer = Visualizer()"
   ]
  },
  {
   "cell_type": "code",
   "execution_count": 5,
   "metadata": {},
   "outputs": [],
   "source": [
    "filter_dict = {\n",
    "    'color1_min_threshold':40,        'color1_max_threshold':205,\n",
    "    'color2_min_threshold':120,        'color2_max_threshold':255,\n",
    "    'magnitude_min_threshold':20,\n",
    "    'absolute_min_threshold' : 40,\n",
    "    'direction_min_threshold':0.7,    'direction_max_threshold':1.4,\n",
    "    'kernal_size':3\n",
    "}\n",
    "image_filter = ImageFilter(threshold_dict=filter_dict)"
   ]
  },
  {
   "cell_type": "code",
   "execution_count": 6,
   "metadata": {},
   "outputs": [],
   "source": [
    "lane_finder_dict = {\n",
    "    'n_window':9,\n",
    "    'margin':100,\n",
    "    'minpix':50,\n",
    "    'ym_per_pix':30 / 720,\n",
    "    'xm_per_pix':3.7 / 700\n",
    "}\n",
    "lane_finder = LaneFinder(lane_finder_dict)"
   ]
  },
  {
   "cell_type": "code",
   "execution_count": 7,
   "metadata": {},
   "outputs": [],
   "source": [
    "def pipeline(image):\n",
    "    undist = camera.get_undistort_image(image)\n",
    "    filtered_image, _ = image_filter.get_binary_image(undist)\n",
    "    bird_view = camera.get_bird_view(filtered_image)\n",
    "    \n",
    "    #result = lane_finder.process_image(bird_view)\n",
    "    result = lane_finder.process_video(bird_view)\n",
    "\n",
    "    font = cv2.FONT_HERSHEY_SIMPLEX\n",
    "\n",
    "    projected_image = camera.get_projected_image(undist, bird_view, result['ploty'], result['leftx'], result['rightx'])\n",
    "\n",
    "    # write right, left lane curvature\n",
    "    cv2.putText(projected_image,'left curvature {} m'.format(result['left_radius']),(10,40), font, 1,(255,255,255),2,cv2.LINE_AA)\n",
    "    cv2.putText(projected_image,'right curvature {} m'.format(result['right_radius']),(10,80), font, 1,(255,255,255),2,cv2.LINE_AA)\n",
    "    # write offset from the center\n",
    "    cv2.putText(projected_image,'off center by {} m'.format(result['vehicle_position']),(10,120), font, 1,(255,255,255),2,cv2.LINE_AA)\n",
    "    return projected_image\n"
   ]
  },
  {
   "cell_type": "code",
   "execution_count": 8,
   "metadata": {},
   "outputs": [],
   "source": [
    "from moviepy.editor import VideoFileClip\n",
    "from IPython.display import HTML"
   ]
  },
  {
   "cell_type": "code",
   "execution_count": 9,
   "metadata": {
    "tags": []
   },
   "outputs": [
    {
     "output_type": "stream",
     "name": "stderr",
     "text": [
      "t:   0%|          | 2/1260 [00:00<01:49, 11.49it/s, now=None]Moviepy - Building video ../test_videos_output/project_video.mp4.\n",
      "Moviepy - Writing video ../test_videos_output/project_video.mp4\n",
      "\n",
      "Moviepy - Done !\n",
      "Moviepy - video ready ../test_videos_output/project_video.mp4\n",
      "Wall time: 4min 7s\n"
     ]
    }
   ],
   "source": [
    "project_video_output = '../test_videos_output/project_video.mp4'\n",
    "## You may also uncomment the following line for a subclip of the first 5 seconds\n",
    "##clip1 = VideoFileClip(\"test_videos/solidWhiteRight.mp4\").subclip(0,5)\n",
    "clip1 = VideoFileClip(\"../project_video.mp4\")\n",
    "project_video = clip1.fl_image(pipeline) #NOTE: this function expects color images!!\n",
    "%time project_video.write_videofile(project_video_output, audio=False)\n",
    "lane_finder.reset()"
   ]
  },
  {
   "cell_type": "code",
   "execution_count": null,
   "metadata": {},
   "outputs": [],
   "source": [
    "HTML(\"\"\"\n",
    "<video width=\"960\" height=\"540\" controls>\n",
    "  <source src=\"{0}\">\n",
    "</video>\n",
    "\"\"\".format(project_video_Clip))"
   ]
  },
  {
   "cell_type": "code",
   "execution_count": null,
   "metadata": {},
   "outputs": [],
   "source": [
    "challenge_video_output = '../test_videos_output/challenge_video.mp4'\n",
    "## To speed up the testing process you may want to try your pipeline on a shorter subclip of the video\n",
    "## To do so add .subclip(start_second,end_second) to the end of the line below\n",
    "## Where start_second and end_second are integer values representing the start and end of the subclip\n",
    "## You may also uncomment the following line for a subclip of the first 5 seconds\n",
    "##clip1 = VideoFileClip(\"test_videos/solidWhiteRight.mp4\").subclip(0,5)\n",
    "clip2 = VideoFileClip(\"../challenge_video.mp4\")\n",
    "challenge_video = clip2.fl_image(pipeline) #NOTE: this function expects color images!!\n",
    "%time challenge_video.write_videofile(challenge_video_output, audio=False)\n",
    "lane_finder.reset()"
   ]
  },
  {
   "cell_type": "code",
   "execution_count": null,
   "metadata": {},
   "outputs": [],
   "source": [
    "harder_challenge_video_output = '../test_videos_output/harder_challenge_video.mp4'\n",
    "## To speed up the testing process you may want to try your pipeline on a shorter subclip of the video\n",
    "## To do so add .subclip(start_second,end_second) to the end of the line below\n",
    "## Where start_second and end_second are integer values representing the start and end of the subclip\n",
    "## You may also uncomment the following line for a subclip of the first 5 seconds\n",
    "##clip1 = VideoFileClip(\"test_videos/solidWhiteRight.mp4\").subclip(0,5)\n",
    "clip3 = VideoFileClip(\"../harder_challenge_video.mp4\")\n",
    "harder_challenge_video = clip3.fl_image(pipeline) #NOTE: this function expects color images!!\n",
    "%time harder_challenge_video.write_videofile(harder_challenge_video_output, audio=False)\n",
    "lane_finder.reset()"
   ]
  },
  {
   "cell_type": "code",
   "execution_count": null,
   "metadata": {},
   "outputs": [],
   "source": []
  }
 ]
}